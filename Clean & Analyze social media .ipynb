{
 "cells": [
  {
   "cell_type": "markdown",
   "metadata": {},
   "source": [
    "# Clean & Analyze Social Media"
   ]
  },
  {
   "cell_type": "markdown",
   "metadata": {},
   "source": [
    "## Introduction\n",
    "\n",
    "Social media has become a ubiquitous part of modern life, with platforms such as Instagram, Twitter, and Facebook serving as essential communication channels. Social media data sets are vast and complex, making analysis a challenging task for businesses and researchers alike. In this project, we explore a simulated social media, for example Tweets, data set to understand trends in likes across different categories.\n",
    "\n",
    "## Prerequisites\n",
    "\n",
    " A basic understanding of Python programming and data analysis concepts.\n",
    "\n",
    "## Project Scope\n",
    "\n",
    "The objective of this project is to analyze tweets (or other social media data) and gain insights into user engagement. We will explore the data set using visualization techniques to understand the distribution of likes across different categories. Finally, we will analyze the data to draw conclusions about the most popular categories and the overall engagement on the platform.\n",
    "\n",
    "## Step 1: Importing Required Libraries\n",
    "\n",
    "As the name suggests, the first step is to import all the necessary libraries that will be used in the project. In this case, we need pandas, numpy, matplotlib, seaborn, and random libraries.\n",
    "\n",
    "Pandas is a library used for data manipulation and analysis. Numpy is a library used for numerical computations. Matplotlib is a library used for data visualization. Seaborn is a library used for statistical data visualization. Random is a library used to generate random numbers."
   ]
  },
  {
   "cell_type": "code",
   "execution_count": null,
   "metadata": {},
   "outputs": [],
   "source": [
    "# Social Media Data Analysis Project"
   ]
  },
  {
   "cell_type": "code",
   "execution_count": 37,
   "metadata": {},
   "outputs": [],
   "source": [
    "import pandas as pd\n",
    "from matplotlib import pyplot as plt\n",
    "import seaborn as sns\n",
    "import numpy as np"
   ]
  },
  {
   "cell_type": "code",
   "execution_count": 38,
   "metadata": {},
   "outputs": [
    {
     "name": "stdout",
     "output_type": "stream",
     "text": [
      "        Date Category  Likes\n",
      "0 2023-09-01    Music   7078\n",
      "1 2023-09-02    Music   3943\n",
      "2 2023-09-03   Health   3590\n",
      "3 2023-09-04     Food     38\n",
      "4 2023-09-05   Family   2168\n",
      "5 2023-09-06  Culture   5716\n",
      "6 2023-09-07     Food     40\n",
      "7 2023-09-08   Family   2713\n",
      "8 2023-09-09   Travel   1696\n",
      "9 2023-09-10     Food   4405\n"
     ]
    }
   ],
   "source": [
    "\n",
    "\n",
    "# Define the list of categories\n",
    "categories = ['Food', 'Travel', 'Fashion', 'Fitness', 'Music', 'Culture', 'Family', 'Health']\n",
    "\n",
    "# Number of entries (n)\n",
    "n = 500\n",
    "\n",
    "# Generate random data\n",
    "data = {\n",
    "    'Date': pd.date_range('2023-09-01', periods=n),\n",
    "    'Category': [random.choice(categories) for _ in range(n)],\n",
    "    'Likes': np.random.randint(0, 10000, size=n)\n",
    "}\n",
    "\n",
    "# Create a DataFrame\n",
    "Social_media= pd.DataFrame(data)\n",
    "\n",
    "# Print the first few rows of the DataFrame\n",
    "print(Social_media.head(10))"
   ]
  },
  {
   "cell_type": "code",
   "execution_count": 39,
   "metadata": {},
   "outputs": [
    {
     "name": "stdout",
     "output_type": "stream",
     "text": [
      "DataFrame Head:\n",
      "        Date Category  Likes\n",
      "0 2023-09-01    Music   7078\n",
      "1 2023-09-02    Music   3943\n",
      "2 2023-09-03   Health   3590\n",
      "3 2023-09-04     Food     38\n",
      "4 2023-09-05   Family   2168\n",
      "\n",
      "DataFrame Information:\n",
      "<class 'pandas.core.frame.DataFrame'>\n",
      "RangeIndex: 500 entries, 0 to 499\n",
      "Data columns (total 3 columns):\n",
      " #   Column    Non-Null Count  Dtype         \n",
      "---  ------    --------------  -----         \n",
      " 0   Date      500 non-null    datetime64[ns]\n",
      " 1   Category  500 non-null    object        \n",
      " 2   Likes     500 non-null    int64         \n",
      "dtypes: datetime64[ns](1), int64(1), object(1)\n",
      "memory usage: 11.8+ KB\n",
      "None\n",
      "\n",
      "DataFrame Description:\n",
      "             Likes\n",
      "count   500.000000\n",
      "mean   5059.086000\n",
      "std    2902.224193\n",
      "min      12.000000\n",
      "25%    2554.000000\n",
      "50%    5078.500000\n",
      "75%    7658.750000\n",
      "max    9990.000000\n",
      "\n",
      "Count of each 'Category' element:\n",
      "Music      74\n",
      "Family     71\n",
      "Fashion    71\n",
      "Food       66\n",
      "Culture    62\n",
      "Fitness    58\n",
      "Health     51\n",
      "Travel     47\n",
      "Name: Category, dtype: int64\n"
     ]
    }
   ],
   "source": [
    "# Print the first few rows of the DataFrame\n",
    "print(\"DataFrame Head:\")\n",
    "print(Social_media.head())\n",
    "\n",
    "# Print DataFrame Information\n",
    "print(\"\\nDataFrame Information:\")\n",
    "print(Social_media.info())\n",
    "\n",
    "# Print DataFrame Description\n",
    "print(\"\\nDataFrame Description:\")\n",
    "print(Social_media.describe())\n",
    "\n",
    "# Print the count of each 'Category' element\n",
    "category_counts = Social_media['Category'].value_counts()\n",
    "print(\"\\nCount of each 'Category' element:\")\n",
    "print(category_counts)"
   ]
  },
  {
   "cell_type": "code",
   "execution_count": null,
   "metadata": {
    "scrolled": false
   },
   "outputs": [],
   "source": [
    " "
   ]
  },
  {
   "cell_type": "code",
   "execution_count": null,
   "metadata": {},
   "outputs": [],
   "source": []
  },
  {
   "cell_type": "code",
   "execution_count": null,
   "metadata": {},
   "outputs": [],
   "source": []
  },
  {
   "cell_type": "code",
   "execution_count": null,
   "metadata": {},
   "outputs": [],
   "source": []
  },
  {
   "cell_type": "code",
   "execution_count": null,
   "metadata": {},
   "outputs": [],
   "source": []
  }
 ],
 "metadata": {
  "kernelspec": {
   "display_name": "Python 3",
   "language": "python",
   "name": "python3"
  },
  "language_info": {
   "codemirror_mode": {
    "name": "ipython",
    "version": 3
   },
   "file_extension": ".py",
   "mimetype": "text/x-python",
   "name": "python",
   "nbconvert_exporter": "python",
   "pygments_lexer": "ipython3",
   "version": "3.7.6"
  }
 },
 "nbformat": 4,
 "nbformat_minor": 4
}
